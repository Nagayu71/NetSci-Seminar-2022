{
 "cells": [
  {
   "cell_type": "code",
   "execution_count": null,
   "id": "9f203072",
   "metadata": {},
   "outputs": [],
   "source": [
    "import matplotlib.pyplot as plt\n",
    "import networkx as nx\n",
    "import numpy as np"
   ]
  },
  {
   "cell_type": "code",
   "execution_count": null,
   "id": "2580b524-87e0-41e1-aed8-c6380e86c427",
   "metadata": {},
   "outputs": [],
   "source": [
    "# 平均次数を求める関数\n",
    "def average_deg(G):\n",
    "    return 2*len(G.edges()) / len(G.nodes())\n",
    "\n",
    "# グラフの概要を表示する関数\n",
    "def info(G):\n",
    "    print(f'Number of nodes: {len(G.nodes())}')\n",
    "    print(f'Number of edges: {len(G.edges())}')\n",
    "    print(f'Average degree: {average_deg(G)}')\n",
    "    print(f'Average path length: {nx.average_shortest_path_length(G)}')\n",
    "    print(f'Average clustering: {nx.average_clustering(G)}')\n",
    "    \n",
    "# 次数分布を描画する関数\n",
    "def plot_dd(G, bins):\n",
    "    fs = 20 # font size\n",
    "    \n",
    "    degree = dict(nx.degree(G))    \n",
    "    plt.hist(degree.values(), bins=bins, color='teal', ec='black')\n",
    "    plt.xlabel('Degree', fontsize=fs)\n",
    "    plt.ylabel('# nodes', fontsize=fs)"
   ]
  },
  {
   "cell_type": "markdown",
   "id": "fb60beb1-6464-4eac-8f32-a11833fa466d",
   "metadata": {
    "tags": []
   },
   "source": [
    "## NetworkXの組み込み関数から生成\n",
    "スモールワールド・ネットワークは組み込み関数`networkx.watts_strogatz_graph()`で簡単に作ることができる"
   ]
  },
  {
   "cell_type": "code",
   "execution_count": null,
   "id": "ef452c88",
   "metadata": {},
   "outputs": [],
   "source": [
    "n = 20 # ノード数\n",
    "k = 4 # 次数\n",
    "p = 0.1 # リンクつなぎ替え確率\n",
    "\n",
    "G1 = nx.watts_strogatz_graph(n, k, p)\n",
    "info(G1)\n",
    "plt.figure(figsize=(6,6))\n",
    "nx.draw_circular(G1, node_color='indigo', edge_color='lightgreen')\n",
    "plt.show()"
   ]
  },
  {
   "cell_type": "markdown",
   "id": "d3c473a1-061b-467f-8452-42267a274e02",
   "metadata": {},
   "source": [
    "## スモールワールド・ネットワークを自分で作る\n",
    "`np.random.rand()`で一様分布から0.0以上、1.0未満の乱数を生成"
   ]
  },
  {
   "cell_type": "code",
   "execution_count": null,
   "id": "887474ce-6b00-42df-adac-b2f6ef36e5a9",
   "metadata": {},
   "outputs": [],
   "source": [
    "# スモールワールド・ネットワーク生成関数\n",
    "def gen_WS_network(n, k, p, seed=None):\n",
    "    if seed != None:\n",
    "        np.random.seed(seed=seed)\n",
    "        # np.random.seed(0)のように乱数のseed値を固定すると常に同じ乱数を発生させることができる\n",
    "    \n",
    "    # 空のグラフを生成して、n個のノードを追加\n",
    "    G = nx.Graph()\n",
    "    G.add_nodes_from(list(range(n)))\n",
    "    \n",
    "    # 規則格子を作る\n",
    "    for i in range(n):\n",
    "        for j in range(k//2):\n",
    "            G.add_edge(i, (i+j+1)%n) # k/2本リンクを張る\n",
    "    \n",
    "    for u, v in G.edges():\n",
    "        if np.random.rand() < p:\n",
    "            G.remove_edge(u, v)\n",
    "            \n",
    "            # 新しいリンク先をランダムに選ぶ\n",
    "            new_edge = (u + np.random.randint(0, n)) % n\n",
    "            \n",
    "            # self-loopを避ける\n",
    "            while u == new_edge:\n",
    "                new_edge = (u + np.random.randint(0, n)) % n\n",
    "            \n",
    "            # 既存のリンクとの重複を避ける\n",
    "            while G.has_edge(u, new_edge) == True:\n",
    "                new_edge = (u + np.random.randint(n)) % n\n",
    "            \n",
    "            G.add_edge(u, new_edge)\n",
    "    \n",
    "    return G\n",
    "            "
   ]
  },
  {
   "cell_type": "code",
   "execution_count": null,
   "id": "867d63ff-29b4-4c25-89b7-a1602a7ab40e",
   "metadata": {},
   "outputs": [],
   "source": [
    "n = 20 # ノード数\n",
    "k = 4 # 次数\n",
    "p = 0.1 # リンクつなぎ換え確率\n",
    "\n",
    "G2 = gen_WS_network(n, k, p)\n",
    "info(G2)\n",
    "plt.figure(figsize=(6,6))\n",
    "nx.draw_circular(G1, node_color='indigo', edge_color='lightgreen')\n",
    "plt.show()"
   ]
  },
  {
   "cell_type": "markdown",
   "id": "c9b28662-8d17-4d56-bd42-d6478f2e3dfa",
   "metadata": {
    "tags": []
   },
   "source": [
    "## 論文のグラフ再現\n",
    "> All the graphs have n = 1,000 vertices and an average degree of k = 10 edges per vertex. We note that a logarithmic horizontal scale has been used to resolve the rapid drop in L(p), corresponding to the onset of the small-world phenomenon.\n",
    "\n",
    "[Collective dynamics of ‘small-world’ networks | Nature](https://www.nature.com/articles/30918.) "
   ]
  },
  {
   "cell_type": "code",
   "execution_count": null,
   "id": "ad9de524-2e3d-47f8-ab7e-1ecf26dfa0de",
   "metadata": {},
   "outputs": [],
   "source": [
    "n = 1000\n",
    "k = 10\n",
    "\n",
    "# 正規化のためのグラフ作成\n",
    "# 自作関数\n",
    "myG_nor = gen_WS_network(n, k, 0)\n",
    "myC_nor = nx.average_clustering(myG_nor)\n",
    "myD_nor = nx.average_shortest_path_length(myG_nor)\n",
    "\n",
    "# 規格化のためのグラフ作成\n",
    "# 組み込み関数\n",
    "nxG_nor = nx.watts_strogatz_graph(n, k, 0)\n",
    "nxC_nor = nx.average_clustering(nxG_nor)\n",
    "nxD_nor = nx.average_shortest_path_length(nxG_nor)\n",
    "\n",
    "# 確率pを作成していく\n",
    "tmp = np.array(range(1, 11)) #array([ 1,  2,  3,  4,  5,  6,  7,  8,  9, 10])\n",
    "\n",
    "# 確率pの配列を格納する箱を準備\n",
    "parray = np.zeros(40)\n",
    "\n",
    "# 確率を格納\n",
    "parray[0:10]  = tmp/10000\n",
    "parray[10:20] = tmp/1000\n",
    "parray[20:30] = tmp/100\n",
    "parray[30:40] = tmp/10"
   ]
  },
  {
   "cell_type": "code",
   "execution_count": null,
   "id": "fc76afaa-9f82-4d99-bdc8-c50c8844bdee",
   "metadata": {},
   "outputs": [],
   "source": [
    "myC = []\n",
    "myD = []\n",
    "nxC = []\n",
    "nxD = []\n",
    "\n",
    "# データポイントの作成\n",
    "for p in parray:\n",
    "    myG = gen_WS_network(n, k, p)\n",
    "    myC.append(nx.average_clustering(myG))\n",
    "    myD.append(nx.average_shortest_path_length(myG))\n",
    "    \n",
    "    nxG = nx.watts_strogatz_graph(n, k, p)\n",
    "    nxC.append(nx.average_clustering(nxG))\n",
    "    nxD.append(nx.average_shortest_path_length(nxG))\n",
    "\n",
    "# p=0のときの値で正規化\n",
    "myC = np.array(myC) / myC_nor\n",
    "myD = np.array(myD) / myD_nor\n",
    "nxC = np.array(nxC) / nxC_nor\n",
    "nxD = np.array(nxD) / nxD_nor"
   ]
  },
  {
   "cell_type": "code",
   "execution_count": null,
   "id": "366b0276-0944-4b28-9f4c-db764f5827f2",
   "metadata": {},
   "outputs": [],
   "source": [
    "# グラフを描画\n",
    "fig = plt.figure()\n",
    "ax = fig.add_subplot()\n",
    "\n",
    "ax.plot(parray, myC, label='My function')\n",
    "ax.plot(parray, myD, label='My function')\n",
    "ax.plot(parray, nxC, label='NetworkX')\n",
    "ax.plot(parray, nxD, label='NetworkX')\n",
    "\n",
    "ax.set_xlabel(r'$p$')\n",
    "ax.text(5*10**(-3), 0.8, \"C(p)/C(0)\",\n",
    "                         fontfamily=\"serif\",\n",
    "                         fontstyle=\"italic\",\n",
    "                         fontsize=16)\n",
    "ax.text(5*10**(-3), 0.3, \"d(p)/d(0)\",\n",
    "                         fontfamily=\"serif\",\n",
    "                         fontstyle=\"italic\",\n",
    "                         fontsize=16)\n",
    "ax.set_ylim(0,1)\n",
    "ax.set_xscale('log')\n",
    "plt.legend()\n",
    "plt.show()"
   ]
  },
  {
   "cell_type": "markdown",
   "id": "d5f3f82c-78f8-4328-a83e-9fe5acd3be85",
   "metadata": {},
   "source": [
    "## グラフのインタラクティブな可視化\n",
    "pyvisライブラリを使うと，ネットワークをインタラクティブに可視化できる．  \n",
    "`.from_nx()`メソッドでnetworkxのグラフオブジェクトを描画"
   ]
  },
  {
   "cell_type": "code",
   "execution_count": null,
   "id": "3b3e2afb-3141-41d9-8f72-c16525106878",
   "metadata": {},
   "outputs": [],
   "source": [
    "from pyvis.network import Network"
   ]
  },
  {
   "cell_type": "code",
   "execution_count": null,
   "id": "cedb38af",
   "metadata": {},
   "outputs": [],
   "source": [
    "net = Network(notebook=True, height='750px', width='100%', bgcolor='#222222', font_color='white')\n",
    "net.from_nx(G1)\n",
    "net.show(\"watts_strogaz.html\")"
   ]
  },
  {
   "cell_type": "markdown",
   "id": "c7f0307d-1612-4790-83a1-c62994abfdca",
   "metadata": {},
   "source": [
    "次数によってノードのサイズを変えることも可能．  \n",
    "ハブが現れるスケールフリーネットワークで確認してみる．"
   ]
  },
  {
   "cell_type": "code",
   "execution_count": null,
   "id": "74615e7f-a6f4-48ee-8fad-f298516d5e3f",
   "metadata": {},
   "outputs": [],
   "source": [
    "# スケールフリーネットワークを生成\n",
    "SFN = nx.barabasi_albert_graph(n=150, m=1)\n",
    "\n",
    "net = Network(notebook=True, height='750px', width='100%', bgcolor='#222222', font_color='white')\n",
    "# ノードサイズを次数によって変える\n",
    "node_degree = dict(SFN.degree)\n",
    "nx.set_node_attributes(SFN, node_degree, 'size')\n",
    "net.from_nx(SFN)\n",
    "net.show(\"barabasi_albert.html\")"
   ]
  },
  {
   "cell_type": "markdown",
   "id": "478b6859-67a2-44f0-9065-b0990f0bef01",
   "metadata": {},
   "source": [
    "## 情報の拡散シミュレーション（SIモデル）\n",
    "### シミュレーション条件\n",
    "- 初期状態で，1つだけが情報を知るノード，それ以外は知らないノードとする．\n",
    "- 1ステップごとに情報を知るノードから情報を知らないノードへある確率（ここでは$p=0.5$）で情報が拡がる．\n",
    "- 情報を知っているノードは情報を忘れることはない\n",
    "\n",
    "### つなぎ替え確率が拡散に与える影響を確認する\n",
    "つなぎ換え確率を，$p=0.00$（規則格子）, $p=0.01$, $p=0.10$, $p=1.00$（ランダム・ネットワーク）としたときの情報の拡散の様子をプロットしていく．"
   ]
  },
  {
   "cell_type": "code",
   "execution_count": null,
   "id": "e08a16eb-601c-47dd-9d11-e41d3a2c9463",
   "metadata": {},
   "outputs": [],
   "source": [
    "import matplotlib.animation as animation\n",
    "from IPython.display import HTML\n",
    "import copy\n",
    "import random"
   ]
  },
  {
   "cell_type": "markdown",
   "id": "1ca1f181-31fc-4635-b834-3ce1054ee7a9",
   "metadata": {},
   "source": [
    "つなぎ換え確率が$p=0.00$のとき（規則格子）"
   ]
  },
  {
   "cell_type": "code",
   "execution_count": null,
   "id": "c0f8930c-4bbc-45f0-a6b1-cd633d3d5edf",
   "metadata": {},
   "outputs": [],
   "source": [
    "G = nx.watts_strogatz_graph(n = 100, k = 4, p = 0.00, seed=0) \n",
    "pos = nx.circular_layout(G)\n",
    "\n",
    "num = nx.number_of_nodes(G)\n",
    "r'''\n",
    "ncに各ノードの状態を記録. 0が情報を知っているノードで, 1が知らないノード.\n",
    "初期状態としてノード98だけが情報を知っているものとする.\n",
    "'''\n",
    "nc = np.zeros(nx.number_of_nodes(G), dtype=int)\n",
    "nc[num-1] = 1\n",
    "plot_data = []\n",
    "\n",
    "#噂を知らないノードを白色, 知っているノードを黒色で表示させる\n",
    "color_list = [\"w\", \"k\", \"lightgrey\", \"c\", \"m\", \"y\"]\n",
    "\n",
    "fig = plt.figure(figsize = (6, 6)) \n",
    "\n",
    "def update(k):\n",
    "    global nc, G\n",
    "    plt.cla() # 現在描写されているグラフを消去\n",
    "    plt.axis('off')\n",
    "    colors = [color_list[x] for x in nc]\n",
    "    nx.draw_networkx(G, pos, node_color=colors, edgecolors='k', node_size=50, with_labels=False)\n",
    "    plot_data.append(sum(nc)/nx.number_of_nodes(G)) # propagation ratioを計算\n",
    "    if len(plot_data)==1:return\n",
    "    nctmp = copy.copy(nc)\n",
    "    for n0 in range(nx.number_of_nodes(G)):\n",
    "        for n1 in list(nx.neighbors(G, n0)):\n",
    "            if nc[n0] == 1 and nc[n1] ==0 and random.random()<0.5:\n",
    "                nctmp[n1] = 1\n",
    "    nc = copy.copy(nctmp)\n",
    "\n",
    "ani = animation.FuncAnimation(fig, update, interval = 200, frames = 50, repeat=False)\n",
    "HTML(ani.to_jshtml())"
   ]
  },
  {
   "cell_type": "code",
   "execution_count": null,
   "id": "5fc21fa4-073c-4409-b173-f69d48b214f8",
   "metadata": {},
   "outputs": [],
   "source": [
    "plot_data_000= copy.copy(plot_data)"
   ]
  },
  {
   "cell_type": "markdown",
   "id": "c3afa0ad-87f5-4807-a51c-4f53c6e06204",
   "metadata": {},
   "source": [
    "つなぎ換え確率が$p=0.02$のとき"
   ]
  },
  {
   "cell_type": "code",
   "execution_count": null,
   "id": "48ea802d-ceac-4128-a742-d796a208d1d2",
   "metadata": {
    "jupyter": {
     "source_hidden": true
    },
    "tags": []
   },
   "outputs": [],
   "source": [
    "G = nx.watts_strogatz_graph(n = 100, k = 4, p = 0.02, seed=0) \n",
    "pos = nx.circular_layout(G)\n",
    "\n",
    "num = nx.number_of_nodes(G)\n",
    "nc = np.zeros(nx.number_of_nodes(G), dtype=int)\n",
    "nc[num-1] = 1\n",
    "plot_data = []\n",
    "\n",
    "#color_list = [\"b\", \"r\", \"g\", \"c\", \"m\", \"y\"]#カラーで表示する場合\n",
    "color_list = [\"w\", \"k\", \"lightgrey\", \"c\", \"m\", \"y\"]\n",
    "\n",
    "fig = plt.figure(figsize = (6, 6)) \n",
    "\n",
    "def update(k):\n",
    "    global nc, G\n",
    "    plt.cla()\n",
    "    plt.axis('off')\n",
    "    colors = [color_list[x] for x in nc]\n",
    "    nx.draw_networkx(G, pos, node_color=colors, edgecolors='k', node_size=50, with_labels=False)\n",
    "    plot_data.append(sum(nc)/nx.number_of_nodes(G))\n",
    "    if len(plot_data)==1:return\n",
    "    nctmp = copy.copy(nc)\n",
    "    for n0 in range(nx.number_of_nodes(G)):\n",
    "        for n1 in list(nx.neighbors(G, n0)):\n",
    "            if nc[n0] == 1 and nc[n1] ==0 and random.random()<0.5:\n",
    "                nctmp[n1] = 1\n",
    "    nc = copy.copy(nctmp)\n",
    "\n",
    "ani = animation.FuncAnimation(fig, update, interval = 200, frames = 50, repeat=False)\n",
    "HTML(ani.to_jshtml())\n"
   ]
  },
  {
   "cell_type": "code",
   "execution_count": null,
   "id": "783e4340-316f-4ff1-bda2-60d80bebea3e",
   "metadata": {},
   "outputs": [],
   "source": [
    "plot_data_002= copy.copy(plot_data)"
   ]
  },
  {
   "cell_type": "markdown",
   "id": "00ede715-f420-4ee9-bc1e-7269db3da32e",
   "metadata": {},
   "source": [
    "つなぎ換え確率が$p=0.10$のとき"
   ]
  },
  {
   "cell_type": "code",
   "execution_count": null,
   "id": "83770422-8930-40c8-9b5c-55c137462a64",
   "metadata": {},
   "outputs": [],
   "source": [
    "G = nx.watts_strogatz_graph(n = 100, k = 4, p = 0.1, seed=0) \n",
    "pos = nx.circular_layout(G)\n",
    "\n",
    "num = nx.number_of_nodes(G)\n",
    "nc = np.zeros(nx.number_of_nodes(G), dtype=int)\n",
    "nc[num-1] = 1\n",
    "plot_data = []\n",
    "\n",
    "#color_list = [\"b\", \"r\", \"g\", \"c\", \"m\", \"y\"]#カラーで表示する場合\n",
    "color_list = [\"w\", \"k\", \"lightgrey\", \"c\", \"m\", \"y\"]\n",
    "\n",
    "fig = plt.figure(figsize = (6, 6)) \n",
    "\n",
    "def update(k):\n",
    "    global nc, G\n",
    "    plt.cla()\n",
    "    plt.axis('off')\n",
    "    colors = [color_list[x] for x in nc]\n",
    "    nx.draw_networkx(G, pos, node_color=colors, edgecolors='k', node_size=50, with_labels=False)\n",
    "    plot_data.append(sum(nc)/nx.number_of_nodes(G))\n",
    "    if len(plot_data)==1:return\n",
    "    nctmp = copy.copy(nc)\n",
    "    for n0 in range(nx.number_of_nodes(G)):\n",
    "        for n1 in list(nx.neighbors(G, n0)):\n",
    "            if nc[n0] == 1 and nc[n1] ==0 and random.random()<0.5:\n",
    "                nctmp[n1] = 1\n",
    "    nc = copy.copy(nctmp)\n",
    "\n",
    "ani = animation.FuncAnimation(fig, update, interval = 200, frames = 50, repeat=False)\n",
    "HTML(ani.to_jshtml())\n"
   ]
  },
  {
   "cell_type": "code",
   "execution_count": null,
   "id": "3d662c38-cb02-4504-ae1f-772a21aec210",
   "metadata": {},
   "outputs": [],
   "source": [
    "plot_data_010= copy.copy(plot_data)"
   ]
  },
  {
   "cell_type": "markdown",
   "id": "3e529811-d9ad-4aba-993c-f399b7fbbb5b",
   "metadata": {},
   "source": [
    "つなぎ換え確率が$p=1.00$のとき（ランダム・ネットワーク）"
   ]
  },
  {
   "cell_type": "code",
   "execution_count": null,
   "id": "2a44374d-b04e-43a0-b79c-ac06066c6e88",
   "metadata": {},
   "outputs": [],
   "source": [
    "G = nx.watts_strogatz_graph(n = 100, k = 4, p = 1, seed=0) \n",
    "pos = nx.circular_layout(G)\n",
    "\n",
    "num = nx.number_of_nodes(G)\n",
    "nc = np.zeros(nx.number_of_nodes(G), dtype=int)\n",
    "nc[num-1] = 1\n",
    "plot_data = []\n",
    "\n",
    "#color_list = [\"b\", \"r\", \"g\", \"c\", \"m\", \"y\"]#カラーで表示する場合\n",
    "color_list = [\"w\", \"k\", \"lightgrey\", \"c\", \"m\", \"y\"]\n",
    "\n",
    "fig = plt.figure(figsize = (6, 6)) \n",
    "\n",
    "def update(k):\n",
    "    global nc, G\n",
    "    plt.cla()\n",
    "    plt.axis('off')\n",
    "    colors = [color_list[x] for x in nc]\n",
    "    nx.draw_networkx(G, pos, node_color=colors, edgecolors='k', node_size=50, with_labels=False)\n",
    "    plot_data.append(sum(nc)/nx.number_of_nodes(G))\n",
    "    if len(plot_data)==1:return\n",
    "    nctmp = copy.copy(nc)\n",
    "    for n0 in range(nx.number_of_nodes(G)):\n",
    "        for n1 in list(nx.neighbors(G, n0)):\n",
    "            if nc[n0] == 1 and nc[n1] ==0 and random.random()<0.5:\n",
    "                nctmp[n1] = 1\n",
    "    nc = copy.copy(nctmp)\n",
    "\n",
    "ani = animation.FuncAnimation(fig, update, interval = 200, frames = 50, repeat=False)\n",
    "HTML(ani.to_jshtml())\n"
   ]
  },
  {
   "cell_type": "code",
   "execution_count": null,
   "id": "d78b798a-6791-4c53-962e-3cd6b8a0c147",
   "metadata": {},
   "outputs": [],
   "source": [
    "plot_data_100= copy.copy(plot_data)"
   ]
  },
  {
   "cell_type": "markdown",
   "id": "c985ea56-82dd-4cea-b6bc-aa5195d012e9",
   "metadata": {},
   "source": [
    "### 拡散スピードの可視化"
   ]
  },
  {
   "cell_type": "code",
   "execution_count": null,
   "id": "9c1562fc-82b4-4ed1-a041-fc8af8c1d8b3",
   "metadata": {},
   "outputs": [],
   "source": [
    "plt.xlabel('step')\n",
    "plt.ylabel('propagation ratio')\n",
    "\n",
    "plt.plot(plot_data_000, marker=\"o\", color=\"r\", linestyle=\"--\", label='regular graph')\n",
    "plt.plot(plot_data_002, marker=\"d\", color = \"g\", linestyle = \"--\", label=r'$p$=0.02')\n",
    "plt.plot(plot_data_010, marker=\"<\", color = \"b\", linestyle = \"--\", label=r'$p$=0.10')\n",
    "plt.plot(plot_data_100, marker=\"^\", color = \"y\", linestyle = \"--\", label='random graph')\n",
    "plt.legend()\n",
    "plt.show()"
   ]
  },
  {
   "cell_type": "code",
   "execution_count": null,
   "id": "c2363266-a389-4096-9185-796d46870e45",
   "metadata": {},
   "outputs": [],
   "source": []
  }
 ],
 "metadata": {
  "kernelspec": {
   "display_name": "Python 3 (ipykernel)",
   "language": "python",
   "name": "python3"
  },
  "language_info": {
   "codemirror_mode": {
    "name": "ipython",
    "version": 3
   },
   "file_extension": ".py",
   "mimetype": "text/x-python",
   "name": "python",
   "nbconvert_exporter": "python",
   "pygments_lexer": "ipython3",
   "version": "3.9.12"
  }
 },
 "nbformat": 4,
 "nbformat_minor": 5
}
